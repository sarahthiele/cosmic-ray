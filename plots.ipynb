{
 "cells": [
  {
   "cell_type": "code",
   "execution_count": 1,
   "id": "7128f680-bd8a-4689-9e0d-eba92490b752",
   "metadata": {},
   "outputs": [],
   "source": [
    "from galprep import *\n",
    "%matplotlib inline"
   ]
  },
  {
   "cell_type": "code",
   "execution_count": 2,
   "id": "689bdd35-e619-40e5-8b43-a1b461156256",
   "metadata": {},
   "outputs": [
    {
     "name": "stdout",
     "output_type": "stream",
     "text": [
      "{'a': 1.0, 'omegaM0': 1.0, 'omegaL0': 0.0, 'h': 0.01, 'boxsize': Unit(\"3.20e+02 kpc\"), 'time': Unit(\"1.44e+00 kpc s km**-1\")}\n",
      "1406.3477550069247\n"
     ]
    }
   ],
   "source": [
    "path = \"output_00\"\n",
    "output='106'\n",
    "data = galprep(path, output)"
   ]
  },
  {
   "cell_type": "code",
   "execution_count": 3,
   "id": "151f7c63-61ec-4f20-a6ed-d819604e50b8",
   "metadata": {},
   "outputs": [],
   "source": [
    "fit_kratios = fitfunc('k_ratio', data.gas['M_A0'], data.gas['xion'])\n",
    "fit_kperps = fitfunc('k_perp', data.gas['M_A0'], data.gas['xion'])"
   ]
  },
  {
   "cell_type": "code",
   "execution_count": null,
   "id": "68022844-0fa2-4897-894c-9a5505febf5a",
   "metadata": {},
   "outputs": [],
   "source": [
    "kratios = fit_kratios\n",
    "kperps = fit_kperps\n",
    "kpars_us = fit_kratios * fit_kperps\n",
    "data.gas['kratio'] = pynbody.array.SimArray(kratios, units='')\n",
    "data.gas['kpar_us'] = pynbody.array.SimArray(kpars_us, units='') # unscaled\n",
    "data.gas['kperp_us'] = pynbody.array.SimArray(kperps, units='') # unscaled"
   ]
  }
 ],
 "metadata": {
  "kernelspec": {
   "display_name": "Python 3 (ipykernel)",
   "language": "python",
   "name": "python3"
  },
  "language_info": {
   "codemirror_mode": {
    "name": "ipython",
    "version": 3
   },
   "file_extension": ".py",
   "mimetype": "text/x-python",
   "name": "python",
   "nbconvert_exporter": "python",
   "pygments_lexer": "ipython3",
   "version": "3.9.12"
  }
 },
 "nbformat": 4,
 "nbformat_minor": 5
}
